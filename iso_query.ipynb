{
 "cells": [
  {
   "cell_type": "markdown",
   "metadata": {},
   "source": [
    "## Requires isochroner module, see dfsnow GitHub"
   ]
  },
  {
   "cell_type": "code",
   "execution_count": 8,
   "metadata": {},
   "outputs": [],
   "source": [
    "import isochroner as iso\n",
    "import geopandas as gpd\n",
    "import pandas as pd\n",
    "import iso_keys as keys\n",
    "import fiona\n",
    "import os\n",
    "from shapely import wkt, geometry"
   ]
  },
  {
   "cell_type": "code",
   "execution_count": 6,
   "metadata": {},
   "outputs": [],
   "source": [
    "# Use isochroner to create isochrones from the specified shapefile\n",
    "gdf = gpd.read_file(os.path.join('shapefiles', 'ti_2015_chi_tracts.shp'))\n",
    "iso.isochrone_batch(\n",
    "    gdf,\n",
    "    key=keys.api_key,\n",
    "    out_filename=os.path.join('data', 'isochrones.csv'),\n",
    "    duration=20,\n",
    "    keep_cols=['GEOID'],\n",
    "    batch_size=3)"
   ]
  },
  {
   "cell_type": "code",
   "execution_count": 9,
   "metadata": {},
   "outputs": [],
   "source": [
    "# Function to convert query output to an ESRI shapefile\n",
    "def isochrones_to_shp(df, filename, crs, format='ESRI Shapefile'):\n",
    "    \"\"\"\n",
    "    Convert a dataframe of isochrones to a shapefile or GeoJSON\n",
    "\n",
    "    :param df: Input dataframe\n",
    "    :param key: Google Maps API key passed within function\n",
    "    :param filename: Filename to save as\n",
    "    :param crs: CRS to use when creating the output\n",
    "    :param format: Format to use for output, geojson or esri\n",
    "    :return: Shapefile or GeoJSON with attached duration and origin point data\n",
    "    \"\"\"\n",
    "    df['geometry'] = df['geometry'].astype(str).map(wkt.loads)\n",
    "    crs = {'init': 'epsg:' + str(crs)}\n",
    "    df = gpd.GeoDataFrame(df, crs=crs, geometry=df['geometry'])\n",
    "\n",
    "    iso_schema = {\n",
    "        'geometry': 'Polygon',\n",
    "        'properties': {'id': 'int',\n",
    "                       'GEOID': 'str',\n",
    "                       'coords': 'str',\n",
    "                       'duration': 'int'}\n",
    "    }\n",
    "\n",
    "    with fiona.open(filename, 'w', format, iso_schema) as c:\n",
    "        for index, geo in df.iterrows():\n",
    "            c.write({\n",
    "                'geometry': geometry.mapping(geo['geometry']),\n",
    "                'properties': {'id': index,\n",
    "                               'GEOID': str(geo['GEOID']),\n",
    "                               'coords': str(geo['coords']),\n",
    "                               'duration': int(geo['duration'])}\n",
    "            })\n",
    "\n",
    "df = pd.read_csv(os.path.join('data', 'isochrones.csv'))\n",
    "isochrones_to_shp(df, os.path.join('shapefiles', 'isochrones.shp'), crs=4269)"
   ]
  }
 ],
 "metadata": {
  "kernelspec": {
   "display_name": "Python [conda env:jupyterenv]",
   "language": "python",
   "name": "conda-env-jupyterenv-py"
  },
  "language_info": {
   "codemirror_mode": {
    "name": "ipython",
    "version": 3
   },
   "file_extension": ".py",
   "mimetype": "text/x-python",
   "name": "python",
   "nbconvert_exporter": "python",
   "pygments_lexer": "ipython3",
   "version": "3.6.4"
  }
 },
 "nbformat": 4,
 "nbformat_minor": 2
}
