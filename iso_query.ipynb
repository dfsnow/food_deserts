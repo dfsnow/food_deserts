{
 "cells": [
  {
   "cell_type": "markdown",
   "metadata": {},
   "source": [
    "## Requires isochroner module, see dfsnow GitHub"
   ]
  },
  {
   "cell_type": "code",
   "execution_count": 6,
   "metadata": {},
   "outputs": [],
   "source": [
    "import isochroner as iso\n",
    "import geopandas as gpd\n",
    "import iso_keys as keys\n",
    "import os\n",
    "\n",
    "\n",
    "gdf = gpd.read_file(os.path.join('shapefiles', 'ti_2015_chi_tracts.shp'))\n",
    "iso.isochrone_batch(\n",
    "    gdf,\n",
    "    key=keys.api_key,\n",
    "    out_filename=os.path.join('data', 'isochrones.csv'),\n",
    "    duration=20,\n",
    "    keep_cols=['GEOID'],\n",
    "    batch_size=3)"
   ]
  }
 ],
 "metadata": {
  "kernelspec": {
   "display_name": "Python [conda env:jupyterenv]",
   "language": "python",
   "name": "conda-env-jupyterenv-py"
  },
  "language_info": {
   "codemirror_mode": {
    "name": "ipython",
    "version": 3
   },
   "file_extension": ".py",
   "mimetype": "text/x-python",
   "name": "python",
   "nbconvert_exporter": "python",
   "pygments_lexer": "ipython3",
   "version": "3.6.4"
  }
 },
 "nbformat": 4,
 "nbformat_minor": 2
}
