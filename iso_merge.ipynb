{
 "cells": [
  {
   "cell_type": "markdown",
   "metadata": {},
   "source": [
    "This is a script to merge census tracts and the isochrones generated from those tracts. It combines each isochrone and tract into a single polygon using their unique GEOID, then finds the number of grocery stores within each tract, and finally merges the store count data with the original tract shapefile."
   ]
  },
  {
   "cell_type": "code",
   "execution_count": 38,
   "metadata": {},
   "outputs": [],
   "source": [
    "import pandas as pd\n",
    "import geopandas as gpd\n",
    "import cenpy as cp\n",
    "import numpy as np\n",
    "import os\n",
    "from shapely.geometry.multipolygon import MultiPolygon\n",
    "from shapely.geometry import Point"
   ]
  },
  {
   "cell_type": "code",
   "execution_count": 27,
   "metadata": {},
   "outputs": [],
   "source": [
    "def concat_int_cols(df, col1, col2, col3, fill1=2, fill2=3, fill3=6, return_col='GEOID'):\n",
    "    \"\"\" Concatenate integer columns using zfill \"\"\"\n",
    "    df[[col1, col2, col3]] = df[[col1, col2, col3]].astype(str)\n",
    "    df[col1] = df[col1].str.zfill(fill1)\n",
    "    df[col2] = df[col2].str.zfill(fill2)\n",
    "    df[col3] = df[col3].str.zfill(fill3)\n",
    "    df[return_col] = df[[col1, col2, col3]].apply(lambda x: ''.join(x), axis=1)\n",
    "    df[[col1, col2, col3, return_col]] = df[[col1, col2, col3, return_col]].astype(int)\n",
    "    return df"
   ]
  },
  {
   "cell_type": "code",
   "execution_count": 3,
   "metadata": {},
   "outputs": [],
   "source": [
    "# Import all shapefiles for merging isochrones and tracts\n",
    "tracts = gpd.read_file(os.path.join('shapefiles', 'ti_2015_chi_tracts.shp'))\n",
    "isos = gpd.read_file(os.path.join('shapefiles', 'isochrones.shp'))\n",
    "tracts = tracts[['GEOID', 'geometry']]\n",
    "isos = isos[['GEOID', 'geometry']]"
   ]
  },
  {
   "cell_type": "code",
   "execution_count": 5,
   "metadata": {},
   "outputs": [],
   "source": [
    "# Concatenate tracts and isochones\n",
    "gdf = gpd.GeoDataFrame(pd.concat([tracts, isos], ignore_index=True))\n",
    "gdf.index = gdf['GEOID']"
   ]
  },
  {
   "cell_type": "code",
   "execution_count": 6,
   "metadata": {},
   "outputs": [],
   "source": [
    "# Merge the isochrone and tract polygons\n",
    "fix = []\n",
    "GEOID_list = gdf['GEOID'].unique()\n",
    "for i, id in enumerate(GEOID_list):\n",
    "    tmp = gdf[gdf['GEOID']==id].geometry\n",
    "    sh = MultiPolygon([x.buffer(0) for x in tmp.geometry])\n",
    "    fix.append({'GEOID': id, 'geometry':sh})\n",
    "merged = gpd.GeoDataFrame(fix, columns=['GEOID', 'geometry'])\n",
    "merged = merged.set_geometry('geometry')\n",
    "merged['geometry'] = merged.geometry.buffer(0)\n",
    "merged.crs = tracts.crs"
   ]
  },
  {
   "cell_type": "code",
   "execution_count": 1,
   "metadata": {},
   "outputs": [
    {
     "ename": "NameError",
     "evalue": "name 'pd' is not defined",
     "output_type": "error",
     "traceback": [
      "\u001b[0;31m---------------------------------------------------------------------------\u001b[0m",
      "\u001b[0;31mNameError\u001b[0m                                 Traceback (most recent call last)",
      "\u001b[0;32m<ipython-input-1-12c4b1bb8fb0>\u001b[0m in \u001b[0;36m<module>\u001b[0;34m()\u001b[0m\n\u001b[1;32m      1\u001b[0m \u001b[0;31m# Create shapefile of points from the lat, long of grocery store queries\u001b[0m\u001b[0;34m\u001b[0m\u001b[0;34m\u001b[0m\u001b[0m\n\u001b[0;32m----> 2\u001b[0;31m \u001b[0mdf\u001b[0m \u001b[0;34m=\u001b[0m \u001b[0mpd\u001b[0m\u001b[0;34m.\u001b[0m\u001b[0mread_csv\u001b[0m\u001b[0;34m(\u001b[0m\u001b[0mos\u001b[0m\u001b[0;34m.\u001b[0m\u001b[0mpath\u001b[0m\u001b[0;34m.\u001b[0m\u001b[0mjoin\u001b[0m\u001b[0;34m(\u001b[0m\u001b[0;34m'data'\u001b[0m\u001b[0;34m,\u001b[0m \u001b[0;34m'all_markets.csv'\u001b[0m\u001b[0;34m)\u001b[0m\u001b[0;34m)\u001b[0m\u001b[0;34m\u001b[0m\u001b[0m\n\u001b[0m\u001b[1;32m      3\u001b[0m \u001b[0;34m\u001b[0m\u001b[0m\n\u001b[1;32m      4\u001b[0m \u001b[0mgeometry\u001b[0m \u001b[0;34m=\u001b[0m \u001b[0;34m[\u001b[0m\u001b[0mPoint\u001b[0m\u001b[0;34m(\u001b[0m\u001b[0mxy\u001b[0m\u001b[0;34m)\u001b[0m \u001b[0;32mfor\u001b[0m \u001b[0mxy\u001b[0m \u001b[0;32min\u001b[0m \u001b[0mzip\u001b[0m\u001b[0;34m(\u001b[0m\u001b[0mdf\u001b[0m\u001b[0;34m.\u001b[0m\u001b[0mlongitude\u001b[0m\u001b[0;34m,\u001b[0m \u001b[0mdf\u001b[0m\u001b[0;34m.\u001b[0m\u001b[0mlatitude\u001b[0m\u001b[0;34m)\u001b[0m\u001b[0;34m]\u001b[0m\u001b[0;34m\u001b[0m\u001b[0m\n\u001b[1;32m      5\u001b[0m \u001b[0mdf\u001b[0m \u001b[0;34m=\u001b[0m \u001b[0mdf\u001b[0m\u001b[0;34m.\u001b[0m\u001b[0mdrop\u001b[0m\u001b[0;34m(\u001b[0m\u001b[0;34m[\u001b[0m\u001b[0;34m'longitude'\u001b[0m\u001b[0;34m,\u001b[0m \u001b[0;34m'latitude'\u001b[0m\u001b[0;34m]\u001b[0m\u001b[0;34m,\u001b[0m \u001b[0maxis\u001b[0m\u001b[0;34m=\u001b[0m\u001b[0;36m1\u001b[0m\u001b[0;34m)\u001b[0m\u001b[0;34m\u001b[0m\u001b[0m\n",
      "\u001b[0;31mNameError\u001b[0m: name 'pd' is not defined"
     ]
    }
   ],
   "source": [
    "# Create shapefile of points from the lat, long of grocery store queries\n",
    "df = pd.read_csv(os.path.join('data', 'all_markets.csv'))\n",
    "\n",
    "geometry = [Point(xy) for xy in zip(df.longitude, df.latitude)]\n",
    "df = df.drop(['longitude', 'latitude'], axis=1)\n",
    "points = gpd.GeoDataFrame(df, crs=merged.crs, geometry=geometry)\n",
    "points.to_file(os.path.join('shapefiles', 'final_chi_points.shp'))"
   ]
  },
  {
   "cell_type": "code",
   "execution_count": 35,
   "metadata": {},
   "outputs": [
    {
     "name": "stderr",
     "output_type": "stream",
     "text": [
      "/anaconda3/envs/jupyterenv/lib/python3.6/site-packages/cenpy/remote.py:172: FutureWarning: convert_objects is deprecated.  To re-infer data dtypes for object columns, use DataFrame.infer_objects()\n",
      "For all other conversions use the data-type specific converters pd.to_datetime, pd.to_timedelta and pd.to_numeric.\n",
      "  df[cols] = df[cols].convert_objects(convert_numeric=convert_numeric)\n"
     ]
    }
   ],
   "source": [
    "# Query census API to get tract level population\n",
    "api_conn = cp.base.Connection('ACSSF5Y2015')\n",
    "pop = api_conn.query(['B01001_001E'], geo_unit='tract:*', geo_filter = {'state':'17'})\n",
    "pop.rename(\n",
    "    columns={\n",
    "        'B01001_001E': 'POP',\n",
    "        'state': 'STATEFIP',\n",
    "        'county': 'COUNTY',\n",
    "        'tract': 'TRACT'\n",
    "        },\n",
    "        inplace=True)\n",
    "pop = concat_int_cols(pop, 'STATEFIP', 'COUNTY', 'TRACT')\n",
    "pop['GEOID'] = pop['GEOID'].astype(str)"
   ]
  },
  {
   "cell_type": "code",
   "execution_count": 32,
   "metadata": {},
   "outputs": [],
   "source": [
    "# Merge the grocery store points with the merged tracts to determine counts, output final shapefile\n",
    "final = gpd.sjoin(merged, points, how='left', op='contains')\n",
    "final = pd.DataFrame(final)\n",
    "final = final.groupby('GEOID').size().reset_index(name='counts')"
   ]
  },
  {
   "cell_type": "code",
   "execution_count": 40,
   "metadata": {},
   "outputs": [],
   "source": [
    "# Merge all the files together, calculate the stores per 1K population, then output to shapefile\n",
    "tracts = gpd.read_file(os.path.join('shapefiles', 'ti_2015_chi_tracts.shp'))\n",
    "tracts = tracts.merge(final, on='GEOID')\n",
    "tracts = gpd.GeoDataFrame(tracts.merge(pop, on='GEOID'))\n",
    "tracts['STORES_PER_1000'] = tracts['counts'] / tracts['POP'] * 1000\n",
    "tracts = tracts.replace([np.inf, -np.inf], 0)\n",
    "tracts.to_file(os.path.join('shapefiles', 'final_chi_tracts.shp'))"
   ]
  }
 ],
 "metadata": {
  "kernelspec": {
   "display_name": "Python [conda env:jupyterenv]",
   "language": "python",
   "name": "conda-env-jupyterenv-py"
  },
  "language_info": {
   "codemirror_mode": {
    "name": "ipython",
    "version": 3
   },
   "file_extension": ".py",
   "mimetype": "text/x-python",
   "name": "python",
   "nbconvert_exporter": "python",
   "pygments_lexer": "ipython3",
   "version": "3.6.4"
  }
 },
 "nbformat": 4,
 "nbformat_minor": 2
}
